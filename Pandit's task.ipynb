{
 "cells": [
  {
   "cell_type": "code",
   "execution_count": 2,
   "metadata": {
    "scrolled": true
   },
   "outputs": [
    {
     "name": "stdout",
     "output_type": "stream",
     "text": [
      "Collecting pandasql\n",
      "  Downloading pandasql-0.7.3.tar.gz (26 kB)\n",
      "Requirement already satisfied: numpy in /home/vkkr125/anaconda3/lib/python3.8/site-packages (from pandasql) (1.19.2)\n",
      "Requirement already satisfied: pandas in /home/vkkr125/anaconda3/lib/python3.8/site-packages (from pandasql) (1.1.3)\n",
      "Requirement already satisfied: sqlalchemy in /home/vkkr125/anaconda3/lib/python3.8/site-packages (from pandasql) (1.3.20)\n",
      "Requirement already satisfied: pytz>=2017.2 in /home/vkkr125/anaconda3/lib/python3.8/site-packages (from pandas->pandasql) (2020.1)\n",
      "Requirement already satisfied: python-dateutil>=2.7.3 in /home/vkkr125/anaconda3/lib/python3.8/site-packages (from pandas->pandasql) (2.8.1)\n",
      "Requirement already satisfied: six>=1.5 in /home/vkkr125/anaconda3/lib/python3.8/site-packages (from python-dateutil>=2.7.3->pandas->pandasql) (1.15.0)\n",
      "Building wheels for collected packages: pandasql\n",
      "  Building wheel for pandasql (setup.py) ... \u001b[?25ldone\n",
      "\u001b[?25h  Created wheel for pandasql: filename=pandasql-0.7.3-py3-none-any.whl size=26818 sha256=f29196052152a41d570091eb5219de0dfbf4d21180bcc5cc0c0c4506e77601b3\n",
      "  Stored in directory: /home/vkkr125/.cache/pip/wheels/ed/8f/46/a383923333728744f01ba24adbd8e364f2cb9470a8b8e5b9ff\n",
      "Successfully built pandasql\n",
      "Installing collected packages: pandasql\n",
      "Successfully installed pandasql-0.7.3\n"
     ]
    }
   ],
   "source": [
    "!pip install pandasql"
   ]
  },
  {
   "cell_type": "code",
   "execution_count": 5,
   "metadata": {},
   "outputs": [],
   "source": [
    "from pandasql import sqldf\n",
    "import pandas as pd\n",
    "pysqldf = lambda q: sqldf(q, globals())"
   ]
  },
  {
   "cell_type": "code",
   "execution_count": 7,
   "metadata": {
    "scrolled": false
   },
   "outputs": [
    {
     "data": {
      "text/html": [
       "<div>\n",
       "<style scoped>\n",
       "    .dataframe tbody tr th:only-of-type {\n",
       "        vertical-align: middle;\n",
       "    }\n",
       "\n",
       "    .dataframe tbody tr th {\n",
       "        vertical-align: top;\n",
       "    }\n",
       "\n",
       "    .dataframe thead th {\n",
       "        text-align: right;\n",
       "    }\n",
       "</style>\n",
       "<table border=\"1\" class=\"dataframe\">\n",
       "  <thead>\n",
       "    <tr style=\"text-align: right;\">\n",
       "      <th></th>\n",
       "      <th>Order ID</th>\n",
       "      <th>Product ID</th>\n",
       "      <th>Qty</th>\n",
       "    </tr>\n",
       "  </thead>\n",
       "  <tbody>\n",
       "    <tr>\n",
       "      <th>0</th>\n",
       "      <td>CA-2014-100006</td>\n",
       "      <td>TEC-PH-10002075</td>\n",
       "      <td>3</td>\n",
       "    </tr>\n",
       "    <tr>\n",
       "      <th>1</th>\n",
       "      <td>CA-2014-100090</td>\n",
       "      <td>FUR-TA-10003715</td>\n",
       "      <td>3</td>\n",
       "    </tr>\n",
       "    <tr>\n",
       "      <th>2</th>\n",
       "      <td>CA-2014-100090</td>\n",
       "      <td>OFF-BI-10001597</td>\n",
       "      <td>6</td>\n",
       "    </tr>\n",
       "    <tr>\n",
       "      <th>3</th>\n",
       "      <td>CA-2014-100293</td>\n",
       "      <td>OFF-PA-10000176</td>\n",
       "      <td>6</td>\n",
       "    </tr>\n",
       "    <tr>\n",
       "      <th>4</th>\n",
       "      <td>CA-2014-100328</td>\n",
       "      <td>OFF-BI-10000343</td>\n",
       "      <td>1</td>\n",
       "    </tr>\n",
       "    <tr>\n",
       "      <th>...</th>\n",
       "      <td>...</td>\n",
       "      <td>...</td>\n",
       "      <td>...</td>\n",
       "    </tr>\n",
       "    <tr>\n",
       "      <th>9473</th>\n",
       "      <td>US-2017-169551</td>\n",
       "      <td>OFF-PA-10004100</td>\n",
       "      <td>3</td>\n",
       "    </tr>\n",
       "    <tr>\n",
       "      <th>9474</th>\n",
       "      <td>US-2017-169551</td>\n",
       "      <td>OFF-ST-10004835</td>\n",
       "      <td>3</td>\n",
       "    </tr>\n",
       "    <tr>\n",
       "      <th>9475</th>\n",
       "      <td>US-2017-169551</td>\n",
       "      <td>TEC-AC-10002018</td>\n",
       "      <td>3</td>\n",
       "    </tr>\n",
       "    <tr>\n",
       "      <th>9476</th>\n",
       "      <td>US-2017-169551</td>\n",
       "      <td>TEC-AC-10003033</td>\n",
       "      <td>2</td>\n",
       "    </tr>\n",
       "    <tr>\n",
       "      <th>9477</th>\n",
       "      <td>US-2017-169551</td>\n",
       "      <td>TEC-PH-10001363</td>\n",
       "      <td>2</td>\n",
       "    </tr>\n",
       "  </tbody>\n",
       "</table>\n",
       "<p>9478 rows × 3 columns</p>\n",
       "</div>"
      ],
      "text/plain": [
       "            Order ID       Product ID  Qty\n",
       "0     CA-2014-100006  TEC-PH-10002075    3\n",
       "1     CA-2014-100090  FUR-TA-10003715    3\n",
       "2     CA-2014-100090  OFF-BI-10001597    6\n",
       "3     CA-2014-100293  OFF-PA-10000176    6\n",
       "4     CA-2014-100328  OFF-BI-10000343    1\n",
       "...              ...              ...  ...\n",
       "9473  US-2017-169551  OFF-PA-10004100    3\n",
       "9474  US-2017-169551  OFF-ST-10004835    3\n",
       "9475  US-2017-169551  TEC-AC-10002018    3\n",
       "9476  US-2017-169551  TEC-AC-10003033    2\n",
       "9477  US-2017-169551  TEC-PH-10001363    2\n",
       "\n",
       "[9478 rows x 3 columns]"
      ]
     },
     "execution_count": 7,
     "metadata": {},
     "output_type": "execute_result"
    }
   ],
   "source": [
    "data1 = pd.read_csv('/home/vkkr125/Downloads/data1.csv')\n",
    "data1"
   ]
  },
  {
   "cell_type": "code",
   "execution_count": 9,
   "metadata": {
    "scrolled": false
   },
   "outputs": [
    {
     "data": {
      "text/html": [
       "<div>\n",
       "<style scoped>\n",
       "    .dataframe tbody tr th:only-of-type {\n",
       "        vertical-align: middle;\n",
       "    }\n",
       "\n",
       "    .dataframe tbody tr th {\n",
       "        vertical-align: top;\n",
       "    }\n",
       "\n",
       "    .dataframe thead th {\n",
       "        text-align: right;\n",
       "    }\n",
       "</style>\n",
       "<table border=\"1\" class=\"dataframe\">\n",
       "  <thead>\n",
       "    <tr style=\"text-align: right;\">\n",
       "      <th></th>\n",
       "      <th>Order ID</th>\n",
       "      <th>Product ID</th>\n",
       "      <th>Qty</th>\n",
       "    </tr>\n",
       "  </thead>\n",
       "  <tbody>\n",
       "    <tr>\n",
       "      <th>0</th>\n",
       "      <td>CA-2014-100090</td>\n",
       "      <td>FUR-TA-10003715</td>\n",
       "      <td>3</td>\n",
       "    </tr>\n",
       "    <tr>\n",
       "      <th>1</th>\n",
       "      <td>CA-2014-100090</td>\n",
       "      <td>OFF-BI-10001597</td>\n",
       "      <td>6</td>\n",
       "    </tr>\n",
       "    <tr>\n",
       "      <th>2</th>\n",
       "      <td>CA-2014-100293</td>\n",
       "      <td>OFF-PA-10000176</td>\n",
       "      <td>6</td>\n",
       "    </tr>\n",
       "    <tr>\n",
       "      <th>3</th>\n",
       "      <td>CA-2014-100328</td>\n",
       "      <td>OFF-BI-10000343</td>\n",
       "      <td>1</td>\n",
       "    </tr>\n",
       "    <tr>\n",
       "      <th>4</th>\n",
       "      <td>CA-2014-100363</td>\n",
       "      <td>OFF-FA-10000611</td>\n",
       "      <td>2</td>\n",
       "    </tr>\n",
       "    <tr>\n",
       "      <th>...</th>\n",
       "      <td>...</td>\n",
       "      <td>...</td>\n",
       "      <td>...</td>\n",
       "    </tr>\n",
       "    <tr>\n",
       "      <th>9474</th>\n",
       "      <td>US-2017-169551</td>\n",
       "      <td>OFF-PA-10004100</td>\n",
       "      <td>3</td>\n",
       "    </tr>\n",
       "    <tr>\n",
       "      <th>9475</th>\n",
       "      <td>US-2017-169551</td>\n",
       "      <td>OFF-ST-10004835</td>\n",
       "      <td>3</td>\n",
       "    </tr>\n",
       "    <tr>\n",
       "      <th>9476</th>\n",
       "      <td>US-2017-169551</td>\n",
       "      <td>TEC-AC-10002018</td>\n",
       "      <td>3</td>\n",
       "    </tr>\n",
       "    <tr>\n",
       "      <th>9477</th>\n",
       "      <td>US-2017-169551</td>\n",
       "      <td>TEC-AC-10003033</td>\n",
       "      <td>2</td>\n",
       "    </tr>\n",
       "    <tr>\n",
       "      <th>9478</th>\n",
       "      <td>US-2017-169551</td>\n",
       "      <td>TEC-PH-10001363</td>\n",
       "      <td>2</td>\n",
       "    </tr>\n",
       "  </tbody>\n",
       "</table>\n",
       "<p>9479 rows × 3 columns</p>\n",
       "</div>"
      ],
      "text/plain": [
       "            Order ID       Product ID  Qty\n",
       "0     CA-2014-100090  FUR-TA-10003715    3\n",
       "1     CA-2014-100090  OFF-BI-10001597    6\n",
       "2     CA-2014-100293  OFF-PA-10000176    6\n",
       "3     CA-2014-100328  OFF-BI-10000343    1\n",
       "4     CA-2014-100363  OFF-FA-10000611    2\n",
       "...              ...              ...  ...\n",
       "9474  US-2017-169551  OFF-PA-10004100    3\n",
       "9475  US-2017-169551  OFF-ST-10004835    3\n",
       "9476  US-2017-169551  TEC-AC-10002018    3\n",
       "9477  US-2017-169551  TEC-AC-10003033    2\n",
       "9478  US-2017-169551  TEC-PH-10001363    2\n",
       "\n",
       "[9479 rows x 3 columns]"
      ]
     },
     "execution_count": 9,
     "metadata": {},
     "output_type": "execute_result"
    }
   ],
   "source": [
    "data2 = pd.read_csv('/home/vkkr125/Downloads/data2.csv')\n",
    "data2"
   ]
  },
  {
   "cell_type": "code",
   "execution_count": 12,
   "metadata": {},
   "outputs": [
    {
     "data": {
      "text/html": [
       "<div>\n",
       "<style scoped>\n",
       "    .dataframe tbody tr th:only-of-type {\n",
       "        vertical-align: middle;\n",
       "    }\n",
       "\n",
       "    .dataframe tbody tr th {\n",
       "        vertical-align: top;\n",
       "    }\n",
       "\n",
       "    .dataframe thead th {\n",
       "        text-align: right;\n",
       "    }\n",
       "</style>\n",
       "<table border=\"1\" class=\"dataframe\">\n",
       "  <thead>\n",
       "    <tr style=\"text-align: right;\">\n",
       "      <th></th>\n",
       "      <th>Order ID</th>\n",
       "      <th>Product ID</th>\n",
       "      <th>Qty</th>\n",
       "    </tr>\n",
       "  </thead>\n",
       "  <tbody>\n",
       "    <tr>\n",
       "      <th>0</th>\n",
       "      <td>CA-2014-100006</td>\n",
       "      <td>TEC-PH-10002075</td>\n",
       "      <td>3</td>\n",
       "    </tr>\n",
       "    <tr>\n",
       "      <th>1</th>\n",
       "      <td>CA-2014-100090</td>\n",
       "      <td>FUR-TA-10003715</td>\n",
       "      <td>3</td>\n",
       "    </tr>\n",
       "    <tr>\n",
       "      <th>2</th>\n",
       "      <td>CA-2014-100090</td>\n",
       "      <td>OFF-BI-10001597</td>\n",
       "      <td>6</td>\n",
       "    </tr>\n",
       "    <tr>\n",
       "      <th>3</th>\n",
       "      <td>CA-2014-100293</td>\n",
       "      <td>OFF-PA-10000176</td>\n",
       "      <td>6</td>\n",
       "    </tr>\n",
       "    <tr>\n",
       "      <th>4</th>\n",
       "      <td>CA-2014-100328</td>\n",
       "      <td>OFF-BI-10000343</td>\n",
       "      <td>1</td>\n",
       "    </tr>\n",
       "  </tbody>\n",
       "</table>\n",
       "</div>"
      ],
      "text/plain": [
       "         Order ID       Product ID  Qty\n",
       "0  CA-2014-100006  TEC-PH-10002075    3\n",
       "1  CA-2014-100090  FUR-TA-10003715    3\n",
       "2  CA-2014-100090  OFF-BI-10001597    6\n",
       "3  CA-2014-100293  OFF-PA-10000176    6\n",
       "4  CA-2014-100328  OFF-BI-10000343    1"
      ]
     },
     "execution_count": 12,
     "metadata": {},
     "output_type": "execute_result"
    }
   ],
   "source": [
    "# test sql \n",
    "df_sql = pysqldf('select * from data1')\n",
    "df_sql.head()"
   ]
  },
  {
   "cell_type": "markdown",
   "metadata": {},
   "source": [
    "# Task1"
   ]
  },
  {
   "cell_type": "code",
   "execution_count": null,
   "metadata": {},
   "outputs": [],
   "source": [
    "# 1. How to identify the Records (Order ID + Product ID combination) present in data1 but\n",
    "# missing in data2 (Specify the number of records missing in your answer)\n",
    "# 2. How to identify the Records (Order ID + Product ID combination) missing in data1 but\n",
    "# present in data2 (Specify the number of records missing in your answer)\n",
    "# 3. Find the Sum of the total Qty of Records missing in data1 but present in data2\n",
    "# 4. Find the total number of unique records (Order ID + Product ID combination) present in\n",
    "# the combined dataset of data1 and data2"
   ]
  },
  {
   "cell_type": "markdown",
   "metadata": {},
   "source": [
    "##### 1) How to identify the Records (Order ID + Product ID combination) present in data1 but missing in data2 (Specify the number of records missing in your answer)\n"
   ]
  },
  {
   "cell_type": "code",
   "execution_count": 32,
   "metadata": {},
   "outputs": [
    {
     "name": "stdout",
     "output_type": "stream",
     "text": [
      "           Order ID       Product ID\n",
      "0    CA-2014-100006  TEC-PH-10002075\n",
      "1    CA-2014-100678  OFF-EN-10000056\n",
      "2    CA-2014-100895  OFF-AR-10004511\n",
      "3    CA-2014-101560  OFF-BI-10000309\n",
      "4    CA-2014-102673  OFF-LA-10001771\n",
      "..              ...              ...\n",
      "502  US-2017-160836  OFF-AP-10001626\n",
      "503  US-2017-162558  FUR-FU-10002364\n",
      "504  US-2017-163657  OFF-BI-10000138\n",
      "505  US-2017-164056  FUR-TA-10001307\n",
      "506  US-2017-165456  FUR-CH-10003981\n",
      "\n",
      "[507 rows x 2 columns]\n",
      "\n",
      "\n",
      "count of all the rows(Order ID + Product ID) that are present in data1 but not present in data2\n",
      "Order ID      507\n",
      "Product ID    507\n",
      "dtype: int64\n"
     ]
    }
   ],
   "source": [
    "query_result1 = pysqldf('select data1.`Order ID`,data1.`Product ID` from data1 left join data2 on\\\n",
    "    data1.`Order ID` = data2.`Order ID` and data1.`Product ID` = data2.`Product ID` where data2.`Order ID` is null \\\n",
    "    and data2.`Product ID` is null')\n",
    "\n",
    "print(query_result1) # data frame of all the rows of first query \n",
    "\n",
    "print('\\n\\ncount of all the rows(Order ID + Product ID) that are present in data1 but not present in data2')\n",
    "print(query_result1.count())\n",
    "\n",
    "\n"
   ]
  },
  {
   "cell_type": "markdown",
   "metadata": {},
   "source": [
    "##### 2). How to identify the Records (Order ID + Product ID combination) missing in data1 but present in data2 (Specify the number of records missing in your answer)\n",
    "\n",
    "\n",
    "\n"
   ]
  },
  {
   "cell_type": "code",
   "execution_count": 34,
   "metadata": {},
   "outputs": [
    {
     "data": {
      "text/html": [
       "<div>\n",
       "<style scoped>\n",
       "    .dataframe tbody tr th:only-of-type {\n",
       "        vertical-align: middle;\n",
       "    }\n",
       "\n",
       "    .dataframe tbody tr th {\n",
       "        vertical-align: top;\n",
       "    }\n",
       "\n",
       "    .dataframe thead th {\n",
       "        text-align: right;\n",
       "    }\n",
       "</style>\n",
       "<table border=\"1\" class=\"dataframe\">\n",
       "  <thead>\n",
       "    <tr style=\"text-align: right;\">\n",
       "      <th></th>\n",
       "      <th>Order ID</th>\n",
       "      <th>Product ID</th>\n",
       "    </tr>\n",
       "  </thead>\n",
       "  <tbody>\n",
       "    <tr>\n",
       "      <th>0</th>\n",
       "      <td>CA-2014-100706</td>\n",
       "      <td>TEC-AC-10001314</td>\n",
       "    </tr>\n",
       "    <tr>\n",
       "      <th>1</th>\n",
       "      <td>CA-2014-100762</td>\n",
       "      <td>OFF-PA-10001815</td>\n",
       "    </tr>\n",
       "    <tr>\n",
       "      <th>2</th>\n",
       "      <td>CA-2014-101427</td>\n",
       "      <td>OFF-AR-10002257</td>\n",
       "    </tr>\n",
       "    <tr>\n",
       "      <th>3</th>\n",
       "      <td>CA-2014-102652</td>\n",
       "      <td>FUR-FU-10001918</td>\n",
       "    </tr>\n",
       "    <tr>\n",
       "      <th>4</th>\n",
       "      <td>CA-2014-102869</td>\n",
       "      <td>OFF-PA-10000788</td>\n",
       "    </tr>\n",
       "    <tr>\n",
       "      <th>...</th>\n",
       "      <td>...</td>\n",
       "      <td>...</td>\n",
       "    </tr>\n",
       "    <tr>\n",
       "      <th>503</th>\n",
       "      <td>US-2017-165344</td>\n",
       "      <td>OFF-BI-10003196</td>\n",
       "    </tr>\n",
       "    <tr>\n",
       "      <th>504</th>\n",
       "      <td>US-2017-165358</td>\n",
       "      <td>TEC-CO-10001943</td>\n",
       "    </tr>\n",
       "    <tr>\n",
       "      <th>505</th>\n",
       "      <td>US-2017-167920</td>\n",
       "      <td>OFF-AP-10000159</td>\n",
       "    </tr>\n",
       "    <tr>\n",
       "      <th>506</th>\n",
       "      <td>US-2017-169502</td>\n",
       "      <td>OFF-AP-10001947</td>\n",
       "    </tr>\n",
       "    <tr>\n",
       "      <th>507</th>\n",
       "      <td>US-2017-169551</td>\n",
       "      <td>FUR-BO-10001519</td>\n",
       "    </tr>\n",
       "  </tbody>\n",
       "</table>\n",
       "<p>508 rows × 2 columns</p>\n",
       "</div>"
      ],
      "text/plain": [
       "           Order ID       Product ID\n",
       "0    CA-2014-100706  TEC-AC-10001314\n",
       "1    CA-2014-100762  OFF-PA-10001815\n",
       "2    CA-2014-101427  OFF-AR-10002257\n",
       "3    CA-2014-102652  FUR-FU-10001918\n",
       "4    CA-2014-102869  OFF-PA-10000788\n",
       "..              ...              ...\n",
       "503  US-2017-165344  OFF-BI-10003196\n",
       "504  US-2017-165358  TEC-CO-10001943\n",
       "505  US-2017-167920  OFF-AP-10000159\n",
       "506  US-2017-169502  OFF-AP-10001947\n",
       "507  US-2017-169551  FUR-BO-10001519\n",
       "\n",
       "[508 rows x 2 columns]"
      ]
     },
     "execution_count": 34,
     "metadata": {},
     "output_type": "execute_result"
    }
   ],
   "source": [
    "# this is just reverse of the above query \n",
    "# here we can join the table (data2 to data1) and see all the result that are present in data2 table but not in \n",
    "# first table which is data1 \n",
    "\n",
    "\n",
    "query_result2 = pysqldf('select data2.`Order ID`,data2.`Product ID` from data2 left join data1 on\\\n",
    "    data1.`Order ID` = data2.`Order ID` and data1.`Product ID` = data2.`Product ID` where data1.`Order ID` is null \\\n",
    "    and data1.`Product ID` is null')\n",
    "\n",
    "query_result2"
   ]
  },
  {
   "cell_type": "code",
   "execution_count": 35,
   "metadata": {},
   "outputs": [
    {
     "name": "stdout",
     "output_type": "stream",
     "text": [
      "count of all the rows(Order ID + Product ID) that are present in data2 but not present in data1\n"
     ]
    },
    {
     "data": {
      "text/plain": [
       "Order ID      508\n",
       "Product ID    508\n",
       "dtype: int64"
      ]
     },
     "execution_count": 35,
     "metadata": {},
     "output_type": "execute_result"
    }
   ],
   "source": [
    "print('count of all the rows(Order ID + Product ID) that are present in data2 but not present in data1')\n",
    "query_result2.count()"
   ]
  },
  {
   "cell_type": "markdown",
   "metadata": {},
   "source": [
    "#### 3. Find the Sum of the total Qty of Records missing in data1 but present in data2"
   ]
  },
  {
   "cell_type": "code",
   "execution_count": 42,
   "metadata": {},
   "outputs": [
    {
     "data": {
      "text/html": [
       "<div>\n",
       "<style scoped>\n",
       "    .dataframe tbody tr th:only-of-type {\n",
       "        vertical-align: middle;\n",
       "    }\n",
       "\n",
       "    .dataframe tbody tr th {\n",
       "        vertical-align: top;\n",
       "    }\n",
       "\n",
       "    .dataframe thead th {\n",
       "        text-align: right;\n",
       "    }\n",
       "</style>\n",
       "<table border=\"1\" class=\"dataframe\">\n",
       "  <thead>\n",
       "    <tr style=\"text-align: right;\">\n",
       "      <th></th>\n",
       "      <th>sum_of_quantity</th>\n",
       "    </tr>\n",
       "  </thead>\n",
       "  <tbody>\n",
       "    <tr>\n",
       "      <th>0</th>\n",
       "      <td>1956</td>\n",
       "    </tr>\n",
       "  </tbody>\n",
       "</table>\n",
       "</div>"
      ],
      "text/plain": [
       "   sum_of_quantity\n",
       "0             1956"
      ]
     },
     "execution_count": 42,
     "metadata": {},
     "output_type": "execute_result"
    }
   ],
   "source": [
    "# this is same as 2nd question here we need to take all the quantity insted of counting the number of records \n",
    "\n",
    "\n",
    "query = \"select sum(data2.Qty) as sum_of_quantity from data2 left join data1 on\\\n",
    "    data1.`Order ID` = data2.`Order ID` and data1.`Product ID` = data2.`Product ID` where data1.`Order ID` is null \\\n",
    "    and data1.`Product ID` is null\"\n",
    "\n",
    "\n",
    "\n",
    "# sum of all quantity that are present in data2 but missing in data1 table \n",
    "query_result3 = pysqldf(query)\n",
    "query_result3"
   ]
  },
  {
   "cell_type": "markdown",
   "metadata": {},
   "source": [
    "#### 4. Find the total number of unique records (Order ID + Product ID combination) present in the combined dataset of data1 and data2"
   ]
  },
  {
   "cell_type": "code",
   "execution_count": 53,
   "metadata": {},
   "outputs": [
    {
     "name": "stdout",
     "output_type": "stream",
     "text": [
      "Order ID      9986\n",
      "Product ID    9986\n",
      "dtype: int64\n",
      "Order ID      9986\n",
      "Product ID    9986\n",
      "dtype: int64\n"
     ]
    }
   ],
   "source": [
    "\n",
    " # take union of both datasets\n",
    " # then count the unique rows of the combined dataset \n",
    "\n",
    "\n",
    "df = pysqldf('select * from data1 union select * from data2;')\n",
    "\n",
    "                   # select count(distinct `Order ID`) form df group by `Order ID`, `Product ID`\n",
    "query_result4 = pysqldf('select distinct `Order ID`,`Product ID` from df group by `Order ID`,`Product ID`')\n",
    "                  \n",
    "     \n",
    "\n",
    "\n",
    "# here result will be same without grouping because (Order ID + Product ID) is primary key of the table so the \n",
    "# result will be same as above \n",
    "\n",
    "               \n",
    "query_result = pysqldf('select distinct `Order ID`, `Product ID` from df')\n",
    "print(query_result.count())\n",
    "\n",
    "# same as above \n",
    "print(query_result4.count())\n"
   ]
  },
  {
   "cell_type": "code",
   "execution_count": null,
   "metadata": {},
   "outputs": [],
   "source": []
  }
 ],
 "metadata": {
  "kernelspec": {
   "display_name": "Python 3",
   "language": "python",
   "name": "python3"
  },
  "language_info": {
   "codemirror_mode": {
    "name": "ipython",
    "version": 3
   },
   "file_extension": ".py",
   "mimetype": "text/x-python",
   "name": "python",
   "nbconvert_exporter": "python",
   "pygments_lexer": "ipython3",
   "version": "3.8.5"
  }
 },
 "nbformat": 4,
 "nbformat_minor": 4
}
